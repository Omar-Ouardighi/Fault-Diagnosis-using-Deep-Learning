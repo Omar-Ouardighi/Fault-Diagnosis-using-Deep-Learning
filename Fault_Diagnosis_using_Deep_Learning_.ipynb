{
  "nbformat": 4,
  "nbformat_minor": 0,
  "metadata": {
    "colab": {
      "name": "Fault Diagnosis using Deep Learning .ipynb",
      "provenance": [],
      "mount_file_id": "1R_DDfwF2LFOnvGKyI77vVYaTmvw6kpwz",
      "authorship_tag": "ABX9TyOI4dYYlAVLE0R9tJWaDjXo",
      "include_colab_link": true
    },
    "kernelspec": {
      "name": "python3",
      "display_name": "Python 3"
    },
    "language_info": {
      "name": "python"
    },
    "accelerator": "GPU"
  },
  "cells": [
    {
      "cell_type": "markdown",
      "metadata": {
        "id": "view-in-github",
        "colab_type": "text"
      },
      "source": [
        "<a href=\"https://colab.research.google.com/github/Omar-Ouardighi/Fault-Diagnosis-using-Deep-Learning/blob/main/Fault_Diagnosis_using_Deep_Learning_.ipynb\" target=\"_parent\"><img src=\"https://colab.research.google.com/assets/colab-badge.svg\" alt=\"Open In Colab\"/></a>"
      ]
    },
    {
      "cell_type": "markdown",
      "metadata": {
        "id": "e_X7-SPrRoM3"
      },
      "source": [
        "# Convolutional neural networks (CNN) for bearings faults classification\n",
        "In this Notebook, we will show results of fault diagnosis task using deep learning on the Case Western Reserve University bearing dataset."
      ]
    },
    {
      "cell_type": "markdown",
      "metadata": {
        "id": "DXzP_gFPSTBv"
      },
      "source": [
        "## import libraries"
      ]
    },
    {
      "cell_type": "code",
      "metadata": {
        "id": "1MsiDY4b0ndN"
      },
      "source": [
        "import pandas as pd\n",
        "import sklearn\n",
        "import tensorflow as tf\n",
        "import numpy as np\n",
        "import seaborn as sns\n",
        "import matplotlib.pyplot as plt\n",
        "from sklearn.metrics import confusion_matrix, classification_report\n",
        "\n",
        "from tensorflow.keras.models import Sequential\n",
        "from tensorflow.keras import layers\n",
        "from tensorflow.keras.utils import to_categorical\n",
        "from sklearn.model_selection import train_test_split"
      ],
      "execution_count": 1,
      "outputs": []
    },
    {
      "cell_type": "markdown",
      "metadata": {
        "id": "M0E3xTQMSar2"
      },
      "source": [
        "##  Load Data\n"
      ]
    },
    {
      "cell_type": "code",
      "metadata": {
        "colab": {
          "base_uri": "https://localhost:8080/"
        },
        "id": "AUCdzr_H041x",
        "outputId": "63efdaef-545f-418b-ee36-221f86966489"
      },
      "source": [
        "file = np.load('/content/drive/MyDrive/CWRU_48k_load_1_data.npz')\n",
        "file.files"
      ],
      "execution_count": 2,
      "outputs": [
        {
          "output_type": "execute_result",
          "data": {
            "text/plain": [
              "['data', 'labels']"
            ]
          },
          "metadata": {},
          "execution_count": 2
        }
      ]
    },
    {
      "cell_type": "code",
      "metadata": {
        "colab": {
          "base_uri": "https://localhost:8080/"
        },
        "id": "75bw3tZF2Tr0",
        "outputId": "d6d4bb8c-1cdc-4168-a2a1-c00f320f4702"
      },
      "source": [
        "data = file['data']\n",
        "labels = file['labels']\n",
        "print(data.shape, labels.shape)"
      ],
      "execution_count": 3,
      "outputs": [
        {
          "output_type": "stream",
          "name": "stdout",
          "text": [
            "(4600, 32, 32) (4600,)\n"
          ]
        }
      ]
    },
    {
      "cell_type": "code",
      "metadata": {
        "colab": {
          "base_uri": "https://localhost:8080/"
        },
        "id": "Dw6N2oII2X5e",
        "outputId": "dd19e81b-b054-4d36-f88e-2f191a9a511a"
      },
      "source": [
        "category_labels = np.unique(labels)\n",
        "print(category_labels)"
      ],
      "execution_count": 4,
      "outputs": [
        {
          "output_type": "stream",
          "name": "stdout",
          "text": [
            "['Ball_007' 'Ball_014' 'Ball_021' 'IR_007' 'IR_014' 'IR_021' 'Normal'\n",
            " 'OR_007' 'OR_014' 'OR_021']\n"
          ]
        }
      ]
    },
    {
      "cell_type": "markdown",
      "metadata": {
        "id": "CKK1WH3nTOr2"
      },
      "source": [
        "We can see in the histogram below that data is well balanced "
      ]
    },
    {
      "cell_type": "code",
      "metadata": {
        "colab": {
          "base_uri": "https://localhost:8080/",
          "height": 339
        },
        "id": "Pf6ghE63zwQm",
        "outputId": "0c95cbc7-a7b2-452e-ceef-cc0f59806ac3"
      },
      "source": [
        "\n",
        "plt.figure(figsize=(10,5))\n",
        "plt.bar(labels, height=1 )"
      ],
      "execution_count": 8,
      "outputs": [
        {
          "output_type": "execute_result",
          "data": {
            "text/plain": [
              "<BarContainer object of 4600 artists>"
            ]
          },
          "metadata": {},
          "execution_count": 8
        },
        {
          "output_type": "display_data",
          "data": {
            "image/png": "[encoded data removed]",
            "text/plain": [
              "<Figure size 720x360 with 1 Axes>"
            ]
          },
          "metadata": {
            "needs_background": "light"
          }
        }
      ]
    },
    {
      "cell_type": "code",
      "metadata": {
        "id": "Yvl0x2vp31QU",
        "colab": {
          "base_uri": "https://localhost:8080/"
        },
        "outputId": "76116c95-e36c-4e1a-e56f-ba32e49d76f2"
      },
      "source": [
        "labels = pd.Categorical(labels, categories = category_labels).codes\n",
        "labels"
      ],
      "execution_count": 9,
      "outputs": [
        {
          "output_type": "execute_result",
          "data": {
            "text/plain": [
              "array([0, 0, 0, ..., 6, 6, 6], dtype=int8)"
            ]
          },
          "metadata": {},
          "execution_count": 9
        }
      ]
    },
    {
      "cell_type": "markdown",
      "metadata": {
        "id": "5ufQuCkNV63Z"
      },
      "source": [
        "## Splitting the data"
      ]
    },
    {
      "cell_type": "code",
      "metadata": {
        "id": "fZBv7qyu25EM"
      },
      "source": [
        "train_data, test_data, train_labels, test_labels = train_test_split(data, labels, test_size = 1000, random_state = 42, \n",
        "                                                                    stratify = labels)"
      ],
      "execution_count": 10,
      "outputs": []
    },
    {
      "cell_type": "code",
      "metadata": {
        "colab": {
          "base_uri": "https://localhost:8080/"
        },
        "id": "T19lSm-m3k2k",
        "outputId": "9554aae7-34dc-479d-d773-1da788eb2239"
      },
      "source": [
        "# reshape data\n",
        "train_data = train_data.reshape(len(train_data),32,32,1)\n",
        "test_data = test_data.reshape(len(test_data),32,32,1)\n",
        "\n",
        "train_labels = to_categorical(train_labels)\n",
        "test_labels = to_categorical(test_labels)\n",
        "\n",
        "# Shuffle data\n",
        "index = np.random.permutation(len(train_labels))\n",
        "trian_data, trian_labels = train_data[index], train_labels[index]\n",
        "\n",
        "print(train_data.shape, train_labels.shape, test_data.shape, test_labels.shape )"
      ],
      "execution_count": 11,
      "outputs": [
        {
          "output_type": "stream",
          "name": "stdout",
          "text": [
            "(3600, 32, 32, 1) (3600, 10) (1000, 32, 32, 1) (1000, 10)\n"
          ]
        }
      ]
    },
    {
      "cell_type": "markdown",
      "metadata": {
        "id": "AMJ75wlQWDgB"
      },
      "source": [
        "## Modeling\n",
        "We will use the following model for classification."
      ]
    },
    {
      "cell_type": "code",
      "metadata": {
        "id": "1NQNt5o73nVg",
        "colab": {
          "base_uri": "https://localhost:8080/"
        },
        "outputId": "59f4be75-a4a0-4f31-b821-8f71fa294979"
      },
      "source": [
        "\n",
        "model = Sequential([\n",
        "    layers.Conv2D(32,5,activation= 'relu', input_shape = (32,32,1)),\n",
        "    layers.MaxPool2D(2),\n",
        "    layers.Conv2D(64,3,activation = 'relu' ),\n",
        "    layers.MaxPool2D(2),\n",
        "    layers.Conv2D(128,3,activation = 'relu' ),\n",
        "    layers.MaxPool2D(2),\n",
        "    layers.Flatten(),\n",
        "    layers.Dense(128,activation = 'relu'),\n",
        "    layers.Dense(64, activation = 'relu'),\n",
        "    layers.Dense(10, activation = 'softmax')\n",
        "    ])\n",
        "\n",
        "model.compile(loss = 'categorical_crossentropy', optimizer = tf.keras.optimizers.Adam(learning_rate= 0.001), \n",
        "                  metrics= ['accuracy'])\n",
        "model.summary()"
      ],
      "execution_count": 12,
      "outputs": [
        {
          "output_type": "stream",
          "name": "stdout",
          "text": [
            "Model: \"sequential\"\n",
            "_________________________________________________________________\n",
            " Layer (type)                Output Shape              Param #   \n",
            "=================================================================\n",
            " conv2d (Conv2D)             (None, 28, 28, 32)        832       \n",
            "                                                                 \n",
            " max_pooling2d (MaxPooling2D  (None, 14, 14, 32)       0         \n",
            " )                                                               \n",
            "                                                                 \n",
            " conv2d_1 (Conv2D)           (None, 12, 12, 64)        18496     \n",
            "                                                                 \n",
            " max_pooling2d_1 (MaxPooling  (None, 6, 6, 64)         0         \n",
            " 2D)                                                             \n",
            "                                                                 \n",
            " conv2d_2 (Conv2D)           (None, 4, 4, 128)         73856     \n",
            "                                                                 \n",
            " max_pooling2d_2 (MaxPooling  (None, 2, 2, 128)        0         \n",
            " 2D)                                                             \n",
            "                                                                 \n",
            " flatten (Flatten)           (None, 512)               0         \n",
            "                                                                 \n",
            " dense (Dense)               (None, 128)               65664     \n",
            "                                                                 \n",
            " dense_1 (Dense)             (None, 64)                8256      \n",
            "                                                                 \n",
            " dense_2 (Dense)             (None, 10)                650       \n",
            "                                                                 \n",
            "=================================================================\n",
            "Total params: 167,754\n",
            "Trainable params: 167,754\n",
            "Non-trainable params: 0\n",
            "_________________________________________________________________\n"
          ]
        }
      ]
    },
    {
      "cell_type": "code",
      "metadata": {
        "id": "j6hsY9bG4Ep0",
        "colab": {
          "base_uri": "https://localhost:8080/"
        },
        "outputId": "35ba0941-9533-4f2b-f70f-e74d1c770454"
      },
      "source": [
        "early_stopping = tf.keras.callbacks.EarlyStopping(monitor='val_accuracy', patience=4)\n",
        "\n",
        "history = model.fit(\n",
        "      train_data, train_labels, \n",
        "      epochs=50,\n",
        "      batch_size=16,\n",
        "      validation_data=[test_data,test_labels],\n",
        "      callbacks = [early_stopping] \n",
        "      )"
      ],
      "execution_count": 13,
      "outputs": [
        {
          "output_type": "stream",
          "name": "stdout",
          "text": [
            "Epoch 1/50\n",
            "225/225 [==============================] - 12s 9ms/step - loss: 1.2030 - accuracy: 0.5381 - val_loss: 0.5290 - val_accuracy: 0.7850\n",
            "Epoch 2/50\n",
            "225/225 [==============================] - 2s 7ms/step - loss: 0.4549 - accuracy: 0.8083 - val_loss: 0.4217 - val_accuracy: 0.8190\n",
            "Epoch 3/50\n",
            "225/225 [==============================] - 2s 8ms/step - loss: 0.3799 - accuracy: 0.8356 - val_loss: 0.3635 - val_accuracy: 0.8460\n",
            "Epoch 4/50\n",
            "225/225 [==============================] - 2s 8ms/step - loss: 0.3477 - accuracy: 0.8561 - val_loss: 0.3218 - val_accuracy: 0.8570\n",
            "Epoch 5/50\n",
            "225/225 [==============================] - 2s 8ms/step - loss: 0.2970 - accuracy: 0.8706 - val_loss: 0.2632 - val_accuracy: 0.8800\n",
            "Epoch 6/50\n",
            "225/225 [==============================] - 2s 8ms/step - loss: 0.2249 - accuracy: 0.9003 - val_loss: 0.2947 - val_accuracy: 0.8850\n",
            "Epoch 7/50\n",
            "225/225 [==============================] - 2s 8ms/step - loss: 0.1812 - accuracy: 0.9219 - val_loss: 0.1820 - val_accuracy: 0.9340\n",
            "Epoch 8/50\n",
            "225/225 [==============================] - 2s 7ms/step - loss: 0.1917 - accuracy: 0.9242 - val_loss: 0.1904 - val_accuracy: 0.9270\n",
            "Epoch 9/50\n",
            "225/225 [==============================] - 2s 8ms/step - loss: 0.1394 - accuracy: 0.9453 - val_loss: 0.2310 - val_accuracy: 0.9050\n",
            "Epoch 10/50\n",
            "225/225 [==============================] - 2s 8ms/step - loss: 0.1241 - accuracy: 0.9514 - val_loss: 0.1474 - val_accuracy: 0.9470\n",
            "Epoch 11/50\n",
            "225/225 [==============================] - 2s 8ms/step - loss: 0.0857 - accuracy: 0.9664 - val_loss: 0.1701 - val_accuracy: 0.9240\n",
            "Epoch 12/50\n",
            "225/225 [==============================] - 2s 8ms/step - loss: 0.0760 - accuracy: 0.9717 - val_loss: 0.4571 - val_accuracy: 0.8760\n",
            "Epoch 13/50\n",
            "225/225 [==============================] - 2s 7ms/step - loss: 0.1072 - accuracy: 0.9619 - val_loss: 0.1396 - val_accuracy: 0.9620\n",
            "Epoch 14/50\n",
            "225/225 [==============================] - 2s 8ms/step - loss: 0.0959 - accuracy: 0.9644 - val_loss: 0.1153 - val_accuracy: 0.9650\n",
            "Epoch 15/50\n",
            "225/225 [==============================] - 2s 7ms/step - loss: 0.0680 - accuracy: 0.9753 - val_loss: 0.1319 - val_accuracy: 0.9560\n",
            "Epoch 16/50\n",
            "225/225 [==============================] - 2s 8ms/step - loss: 0.0800 - accuracy: 0.9700 - val_loss: 0.0878 - val_accuracy: 0.9730\n",
            "Epoch 17/50\n",
            "225/225 [==============================] - 2s 8ms/step - loss: 0.0301 - accuracy: 0.9889 - val_loss: 0.0987 - val_accuracy: 0.9640\n",
            "Epoch 18/50\n",
            "225/225 [==============================] - 2s 8ms/step - loss: 0.0333 - accuracy: 0.9889 - val_loss: 0.2774 - val_accuracy: 0.9240\n",
            "Epoch 19/50\n",
            "225/225 [==============================] - 2s 8ms/step - loss: 0.0308 - accuracy: 0.9881 - val_loss: 0.1450 - val_accuracy: 0.9580\n",
            "Epoch 20/50\n",
            "225/225 [==============================] - 2s 8ms/step - loss: 0.0395 - accuracy: 0.9853 - val_loss: 0.0711 - val_accuracy: 0.9770\n",
            "Epoch 21/50\n",
            "225/225 [==============================] - 2s 8ms/step - loss: 0.0161 - accuracy: 0.9942 - val_loss: 0.0747 - val_accuracy: 0.9830\n",
            "Epoch 22/50\n",
            "225/225 [==============================] - 2s 8ms/step - loss: 0.0455 - accuracy: 0.9844 - val_loss: 0.1112 - val_accuracy: 0.9650\n",
            "Epoch 23/50\n",
            "225/225 [==============================] - 2s 8ms/step - loss: 0.0786 - accuracy: 0.9811 - val_loss: 0.1432 - val_accuracy: 0.9500\n",
            "Epoch 24/50\n",
            "225/225 [==============================] - 2s 7ms/step - loss: 0.0413 - accuracy: 0.9847 - val_loss: 0.1092 - val_accuracy: 0.9700\n",
            "Epoch 25/50\n",
            "225/225 [==============================] - 2s 7ms/step - loss: 0.0455 - accuracy: 0.9831 - val_loss: 0.0814 - val_accuracy: 0.9760\n"
          ]
        }
      ]
    },
    {
      "cell_type": "code",
      "metadata": {
        "id": "a60_6uTf8r98"
      },
      "source": [
        "prediction = model.predict(test_data)\n",
        "prediction_labels = list([])\n",
        "for each_prediction in prediction:\n",
        "    prediction_labels.append(list(each_prediction).index(max(each_prediction)))\n",
        "\n",
        "true_labels = np.argmax(test_labels, axis = 1)\n"
      ],
      "execution_count": 14,
      "outputs": []
    },
    {
      "cell_type": "code",
      "metadata": {
        "colab": {
          "base_uri": "https://localhost:8080/",
          "height": 676
        },
        "id": "3-khFrdt6aOU",
        "outputId": "8940ad14-26d5-4363-ecdd-b2448b143358"
      },
      "source": [
        "sns.set(font_scale=1.5 )\n",
        "\n",
        "def plot_conf_mat(y_test, y_preds):\n",
        "    \"\"\"\n",
        "    Plots a nice looking confusion matrix using Seaborn's heatmap()\n",
        "    \"\"\"\n",
        "    fig, ax = plt.subplots(figsize=(10, 10))\n",
        "    ax = sns.heatmap(confusion_matrix(y_test, y_preds),\n",
        "                     xticklabels = category_labels,\n",
        "                     yticklabels = category_labels,\n",
        "                     fmt = \"d\",\n",
        "                     annot=True,\n",
        "                     cbar=False)\n",
        "    plt.xlabel(\"True label\")\n",
        "    plt.ylabel(\"Predicted label\")\n",
        "    \n",
        "    \n",
        "plot_conf_mat(true_labels, prediction_labels)"
      ],
      "execution_count": 17,
      "outputs": [
        {
          "output_type": "display_data",
          "data": {
            "image/png": "[encoded data removed]",
            "text/plain": [
              "<Figure size 720x720 with 1 Axes>"
            ]
          },
          "metadata": {}
        }
      ]
    },
    {
      "cell_type": "code",
      "metadata": {
        "colab": {
          "base_uri": "https://localhost:8080/"
        },
        "id": "xFrNDvRY9iWu",
        "outputId": "272ac64a-f995-42c4-c65a-926b8059df7c"
      },
      "source": [
        "print(classification_report(true_labels, prediction_labels))"
      ],
      "execution_count": 18,
      "outputs": [
        {
          "output_type": "stream",
          "name": "stdout",
          "text": [
            "              precision    recall  f1-score   support\n",
            "\n",
            "           0       0.92      0.97      0.94       100\n",
            "           1       0.97      0.94      0.95       100\n",
            "           2       0.98      0.94      0.96       100\n",
            "           3       1.00      1.00      1.00       100\n",
            "           4       1.00      1.00      1.00       100\n",
            "           5       0.98      1.00      0.99       100\n",
            "           6       1.00      1.00      1.00       100\n",
            "           7       1.00      1.00      1.00       100\n",
            "           8       0.95      0.91      0.93       100\n",
            "           9       0.97      1.00      0.99       100\n",
            "\n",
            "    accuracy                           0.98      1000\n",
            "   macro avg       0.98      0.98      0.98      1000\n",
            "weighted avg       0.98      0.98      0.98      1000\n",
            "\n"
          ]
        }
      ]
    },
    {
      "cell_type": "code",
      "metadata": {
        "id": "cqyN2ifWE12H"
      },
      "source": [
        ""
      ],
      "execution_count": null,
      "outputs": []
    }
  ]
}